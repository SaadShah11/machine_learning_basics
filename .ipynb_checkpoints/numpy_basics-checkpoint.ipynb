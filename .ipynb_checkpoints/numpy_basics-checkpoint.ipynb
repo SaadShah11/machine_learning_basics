{
 "cells": [
  {
   "cell_type": "markdown",
   "id": "c7ff8975",
   "metadata": {
    "id": "c7ff8975"
   },
   "source": [
    "## Numpy Basics"
   ]
  },
  {
   "cell_type": "code",
   "execution_count": 1,
   "id": "8819b0e4",
   "metadata": {
    "executionInfo": {
     "elapsed": 4,
     "status": "ok",
     "timestamp": 1661355199638,
     "user": {
      "displayName": "Syed Saad Ullah Shah",
      "userId": "07221999953290840536"
     },
     "user_tz": -300
    },
    "id": "8819b0e4"
   },
   "outputs": [],
   "source": [
    "import numpy as np;"
   ]
  },
  {
   "cell_type": "code",
   "execution_count": 2,
   "id": "33981c1a",
   "metadata": {
    "executionInfo": {
     "elapsed": 4,
     "status": "ok",
     "timestamp": 1661355199639,
     "user": {
      "displayName": "Syed Saad Ullah Shah",
      "userId": "07221999953290840536"
     },
     "user_tz": -300
    },
    "id": "33981c1a"
   },
   "outputs": [],
   "source": [
    "array = np.array(range(5));"
   ]
  },
  {
   "cell_type": "code",
   "execution_count": 3,
   "id": "3f1c1cdb",
   "metadata": {
    "colab": {
     "base_uri": "https://localhost:8080/"
    },
    "executionInfo": {
     "elapsed": 2,
     "status": "ok",
     "timestamp": 1661355204222,
     "user": {
      "displayName": "Syed Saad Ullah Shah",
      "userId": "07221999953290840536"
     },
     "user_tz": -300
    },
    "id": "3f1c1cdb",
    "outputId": "a2554074-87f2-4850-83f9-370542acd00f"
   },
   "outputs": [
    {
     "data": {
      "text/plain": [
       "array([0, 1, 2, 3, 4])"
      ]
     },
     "execution_count": 3,
     "metadata": {},
     "output_type": "execute_result"
    }
   ],
   "source": [
    "array"
   ]
  },
  {
   "cell_type": "code",
   "execution_count": 4,
   "id": "ede28774",
   "metadata": {
    "executionInfo": {
     "elapsed": 4,
     "status": "ok",
     "timestamp": 1661355205989,
     "user": {
      "displayName": "Syed Saad Ullah Shah",
      "userId": "07221999953290840536"
     },
     "user_tz": -300
    },
    "id": "ede28774"
   },
   "outputs": [],
   "source": [
    "array2d = np.array([range(5), range(5)])"
   ]
  },
  {
   "cell_type": "code",
   "execution_count": 5,
   "id": "a4f4080b",
   "metadata": {
    "colab": {
     "base_uri": "https://localhost:8080/"
    },
    "executionInfo": {
     "elapsed": 3,
     "status": "ok",
     "timestamp": 1661355207088,
     "user": {
      "displayName": "Syed Saad Ullah Shah",
      "userId": "07221999953290840536"
     },
     "user_tz": -300
    },
    "id": "a4f4080b",
    "outputId": "aa8b3780-7bb4-4c08-81df-5441f5204e98"
   },
   "outputs": [
    {
     "data": {
      "text/plain": [
       "array([[0, 1, 2, 3, 4],\n",
       "       [0, 1, 2, 3, 4]])"
      ]
     },
     "execution_count": 5,
     "metadata": {},
     "output_type": "execute_result"
    }
   ],
   "source": [
    "array2d"
   ]
  },
  {
   "cell_type": "code",
   "execution_count": 6,
   "id": "900e37c0",
   "metadata": {
    "colab": {
     "base_uri": "https://localhost:8080/"
    },
    "executionInfo": {
     "elapsed": 686,
     "status": "ok",
     "timestamp": 1661349348980,
     "user": {
      "displayName": "Syed Saad Ullah Shah",
      "userId": "07221999953290840536"
     },
     "user_tz": -300
    },
    "id": "900e37c0",
    "outputId": "bdd6e5dd-ebef-46e4-e965-28f58fb640aa"
   },
   "outputs": [
    {
     "data": {
      "text/plain": [
       "1"
      ]
     },
     "execution_count": 6,
     "metadata": {},
     "output_type": "execute_result"
    }
   ],
   "source": [
    "array.ndim"
   ]
  },
  {
   "cell_type": "code",
   "execution_count": 7,
   "id": "4ed7f5c5",
   "metadata": {
    "colab": {
     "base_uri": "https://localhost:8080/"
    },
    "executionInfo": {
     "elapsed": 5,
     "status": "ok",
     "timestamp": 1661349350528,
     "user": {
      "displayName": "Syed Saad Ullah Shah",
      "userId": "07221999953290840536"
     },
     "user_tz": -300
    },
    "id": "4ed7f5c5",
    "outputId": "80729f9a-ac68-43f6-db03-80ed89030d2e"
   },
   "outputs": [
    {
     "data": {
      "text/plain": [
       "(5,)"
      ]
     },
     "execution_count": 7,
     "metadata": {},
     "output_type": "execute_result"
    }
   ],
   "source": [
    "array.shape"
   ]
  },
  {
   "cell_type": "code",
   "execution_count": 8,
   "id": "3c209bbc",
   "metadata": {
    "colab": {
     "base_uri": "https://localhost:8080/"
    },
    "executionInfo": {
     "elapsed": 8,
     "status": "ok",
     "timestamp": 1661349351096,
     "user": {
      "displayName": "Syed Saad Ullah Shah",
      "userId": "07221999953290840536"
     },
     "user_tz": -300
    },
    "id": "3c209bbc",
    "outputId": "63d38c98-3a2a-4e98-967f-da211788ba03"
   },
   "outputs": [
    {
     "data": {
      "text/plain": [
       "5"
      ]
     },
     "execution_count": 8,
     "metadata": {},
     "output_type": "execute_result"
    }
   ],
   "source": [
    "array.size"
   ]
  },
  {
   "cell_type": "code",
   "execution_count": 9,
   "id": "c65db38d",
   "metadata": {
    "colab": {
     "base_uri": "https://localhost:8080/"
    },
    "executionInfo": {
     "elapsed": 8,
     "status": "ok",
     "timestamp": 1661349352000,
     "user": {
      "displayName": "Syed Saad Ullah Shah",
      "userId": "07221999953290840536"
     },
     "user_tz": -300
    },
    "id": "c65db38d",
    "outputId": "9f407f45-0b25-4ea3-ccdb-b6f65e22d236"
   },
   "outputs": [
    {
     "data": {
      "text/plain": [
       "dtype('int64')"
      ]
     },
     "execution_count": 9,
     "metadata": {},
     "output_type": "execute_result"
    }
   ],
   "source": [
    "array.dtype"
   ]
  },
  {
   "cell_type": "code",
   "execution_count": 10,
   "id": "a2aecad5",
   "metadata": {
    "colab": {
     "base_uri": "https://localhost:8080/"
    },
    "executionInfo": {
     "elapsed": 10,
     "status": "ok",
     "timestamp": 1661349353698,
     "user": {
      "displayName": "Syed Saad Ullah Shah",
      "userId": "07221999953290840536"
     },
     "user_tz": -300
    },
    "id": "a2aecad5",
    "outputId": "6074a6c2-1923-4489-f355-a52438a06939"
   },
   "outputs": [
    {
     "data": {
      "text/plain": [
       "2"
      ]
     },
     "execution_count": 10,
     "metadata": {},
     "output_type": "execute_result"
    }
   ],
   "source": [
    "array2d.ndim\n",
    "# number of dimensions"
   ]
  },
  {
   "cell_type": "code",
   "execution_count": 11,
   "id": "c0db97f4",
   "metadata": {
    "colab": {
     "base_uri": "https://localhost:8080/"
    },
    "executionInfo": {
     "elapsed": 11,
     "status": "ok",
     "timestamp": 1661349355373,
     "user": {
      "displayName": "Syed Saad Ullah Shah",
      "userId": "07221999953290840536"
     },
     "user_tz": -300
    },
    "id": "c0db97f4",
    "outputId": "33adeeee-42eb-4e37-a7aa-93d015fd55f3"
   },
   "outputs": [
    {
     "data": {
      "text/plain": [
       "(2, 5)"
      ]
     },
     "execution_count": 11,
     "metadata": {},
     "output_type": "execute_result"
    }
   ],
   "source": [
    "array2d.shape\n",
    "# 2 rows and 5 columns"
   ]
  },
  {
   "cell_type": "code",
   "execution_count": 12,
   "id": "7aadc378",
   "metadata": {
    "colab": {
     "base_uri": "https://localhost:8080/"
    },
    "executionInfo": {
     "elapsed": 404,
     "status": "ok",
     "timestamp": 1661349356383,
     "user": {
      "displayName": "Syed Saad Ullah Shah",
      "userId": "07221999953290840536"
     },
     "user_tz": -300
    },
    "id": "7aadc378",
    "outputId": "fffaa42a-b943-4ee2-9bbf-832c60197fdb"
   },
   "outputs": [
    {
     "data": {
      "text/plain": [
       "10"
      ]
     },
     "execution_count": 12,
     "metadata": {},
     "output_type": "execute_result"
    }
   ],
   "source": [
    "array2d.size\n",
    "# total 10 elements"
   ]
  },
  {
   "cell_type": "code",
   "execution_count": 13,
   "id": "ef2c7be4",
   "metadata": {
    "colab": {
     "base_uri": "https://localhost:8080/"
    },
    "executionInfo": {
     "elapsed": 3,
     "status": "ok",
     "timestamp": 1661349356763,
     "user": {
      "displayName": "Syed Saad Ullah Shah",
      "userId": "07221999953290840536"
     },
     "user_tz": -300
    },
    "id": "ef2c7be4",
    "outputId": "d2d18a31-5d67-4dfe-f3bc-17a0e9178cd7"
   },
   "outputs": [
    {
     "data": {
      "text/plain": [
       "dtype('int64')"
      ]
     },
     "execution_count": 13,
     "metadata": {},
     "output_type": "execute_result"
    }
   ],
   "source": [
    "array2d.dtype\n",
    "# data type of array elements"
   ]
  },
  {
   "cell_type": "code",
   "execution_count": 14,
   "id": "d3cb7095",
   "metadata": {
    "colab": {
     "base_uri": "https://localhost:8080/"
    },
    "executionInfo": {
     "elapsed": 9,
     "status": "ok",
     "timestamp": 1661349358568,
     "user": {
      "displayName": "Syed Saad Ullah Shah",
      "userId": "07221999953290840536"
     },
     "user_tz": -300
    },
    "id": "d3cb7095",
    "outputId": "71c51c73-5e25-4ae5-860a-306917ac3908"
   },
   "outputs": [
    {
     "data": {
      "text/plain": [
       "array([[0, 0],\n",
       "       [1, 1],\n",
       "       [2, 2],\n",
       "       [3, 3],\n",
       "       [4, 4]])"
      ]
     },
     "execution_count": 14,
     "metadata": {},
     "output_type": "execute_result"
    }
   ],
   "source": [
    "array2d.T\n",
    "# transposes given array"
   ]
  },
  {
   "cell_type": "code",
   "execution_count": 15,
   "id": "dfafe80f",
   "metadata": {
    "colab": {
     "base_uri": "https://localhost:8080/"
    },
    "executionInfo": {
     "elapsed": 3,
     "status": "ok",
     "timestamp": 1661349359657,
     "user": {
      "displayName": "Syed Saad Ullah Shah",
      "userId": "07221999953290840536"
     },
     "user_tz": -300
    },
    "id": "dfafe80f",
    "outputId": "79436493-4f3b-4b3f-d6bd-8069cd16b307"
   },
   "outputs": [
    {
     "data": {
      "text/plain": [
       "(5, 2)"
      ]
     },
     "execution_count": 15,
     "metadata": {},
     "output_type": "execute_result"
    }
   ],
   "source": [
    "array2d.T.shape\n",
    "# rows and columns are reversed"
   ]
  },
  {
   "cell_type": "code",
   "execution_count": 16,
   "id": "4fb8cb2f",
   "metadata": {
    "colab": {
     "base_uri": "https://localhost:8080/"
    },
    "executionInfo": {
     "elapsed": 3,
     "status": "ok",
     "timestamp": 1661349361546,
     "user": {
      "displayName": "Syed Saad Ullah Shah",
      "userId": "07221999953290840536"
     },
     "user_tz": -300
    },
    "id": "4fb8cb2f",
    "outputId": "4bf6a833-bab2-4186-db60-784c84275ae6"
   },
   "outputs": [
    {
     "data": {
      "text/plain": [
       "array(['I', 'Love', 'Python'], dtype='<U6')"
      ]
     },
     "execution_count": 16,
     "metadata": {},
     "output_type": "execute_result"
    }
   ],
   "source": [
    "np.array(['I','Love','Python'])\n",
    "# maximum element length is 6"
   ]
  },
  {
   "cell_type": "code",
   "execution_count": 17,
   "id": "41175f55",
   "metadata": {
    "colab": {
     "base_uri": "https://localhost:8080/"
    },
    "executionInfo": {
     "elapsed": 3,
     "status": "ok",
     "timestamp": 1661349362031,
     "user": {
      "displayName": "Syed Saad Ullah Shah",
      "userId": "07221999953290840536"
     },
     "user_tz": -300
    },
    "id": "41175f55",
    "outputId": "cfca4ccd-bbb2-4338-d1d7-9441be87d306",
    "scrolled": true
   },
   "outputs": [
    {
     "data": {
      "text/plain": [
       "array([[0],\n",
       "       [1],\n",
       "       [2],\n",
       "       [3],\n",
       "       [4]])"
      ]
     },
     "execution_count": 17,
     "metadata": {},
     "output_type": "execute_result"
    }
   ],
   "source": [
    "array.reshape(5,1)\n",
    "# reshape array to 5 rows 1 column"
   ]
  },
  {
   "cell_type": "markdown",
   "id": "3f7079fa",
   "metadata": {
    "id": "3f7079fa"
   },
   "source": [
    "## Array Creation"
   ]
  },
  {
   "cell_type": "markdown",
   "id": "7b70bc5d",
   "metadata": {
    "id": "7b70bc5d"
   },
   "source": [
    "**np.ones((row, column), dtype)**\n",
    "\n",
    "Working: Create array with elements 1 and given shape (dtype is float by default)"
   ]
  },
  {
   "cell_type": "code",
   "execution_count": 18,
   "id": "51f09593",
   "metadata": {
    "colab": {
     "base_uri": "https://localhost:8080/"
    },
    "executionInfo": {
     "elapsed": 10,
     "status": "ok",
     "timestamp": 1661349364090,
     "user": {
      "displayName": "Syed Saad Ullah Shah",
      "userId": "07221999953290840536"
     },
     "user_tz": -300
    },
    "id": "51f09593",
    "outputId": "dc4d863c-054f-4219-d105-0958abe9517d"
   },
   "outputs": [
    {
     "data": {
      "text/plain": [
       "array([1., 1., 1., 1., 1.])"
      ]
     },
     "execution_count": 18,
     "metadata": {},
     "output_type": "execute_result"
    }
   ],
   "source": [
    "np.ones(5)"
   ]
  },
  {
   "cell_type": "code",
   "execution_count": 19,
   "id": "144058db",
   "metadata": {
    "colab": {
     "base_uri": "https://localhost:8080/"
    },
    "executionInfo": {
     "elapsed": 10,
     "status": "ok",
     "timestamp": 1661349368151,
     "user": {
      "displayName": "Syed Saad Ullah Shah",
      "userId": "07221999953290840536"
     },
     "user_tz": -300
    },
    "id": "144058db",
    "outputId": "04d0d743-485c-4fa4-c383-475fe358f288"
   },
   "outputs": [
    {
     "data": {
      "text/plain": [
       "array([1, 1])"
      ]
     },
     "execution_count": 19,
     "metadata": {},
     "output_type": "execute_result"
    }
   ],
   "source": [
    "np.ones(2, dtype='int')"
   ]
  },
  {
   "cell_type": "code",
   "execution_count": 20,
   "id": "b558aaac",
   "metadata": {
    "colab": {
     "base_uri": "https://localhost:8080/"
    },
    "executionInfo": {
     "elapsed": 8,
     "status": "ok",
     "timestamp": 1661349368720,
     "user": {
      "displayName": "Syed Saad Ullah Shah",
      "userId": "07221999953290840536"
     },
     "user_tz": -300
    },
    "id": "b558aaac",
    "outputId": "aee50090-62a7-49d2-9452-5b4352d029a0"
   },
   "outputs": [
    {
     "data": {
      "text/plain": [
       "array([[1, 1, 1, 1, 1, 1, 1, 1, 1, 1, 1, 1, 1, 1, 1, 1, 1, 1, 1, 1],\n",
       "       [1, 1, 1, 1, 1, 1, 1, 1, 1, 1, 1, 1, 1, 1, 1, 1, 1, 1, 1, 1],\n",
       "       [1, 1, 1, 1, 1, 1, 1, 1, 1, 1, 1, 1, 1, 1, 1, 1, 1, 1, 1, 1],\n",
       "       [1, 1, 1, 1, 1, 1, 1, 1, 1, 1, 1, 1, 1, 1, 1, 1, 1, 1, 1, 1],\n",
       "       [1, 1, 1, 1, 1, 1, 1, 1, 1, 1, 1, 1, 1, 1, 1, 1, 1, 1, 1, 1]])"
      ]
     },
     "execution_count": 20,
     "metadata": {},
     "output_type": "execute_result"
    }
   ],
   "source": [
    "np.ones(100, 'int').reshape(5,20)"
   ]
  },
  {
   "cell_type": "code",
   "execution_count": 21,
   "id": "7281d86d",
   "metadata": {
    "colab": {
     "base_uri": "https://localhost:8080/"
    },
    "executionInfo": {
     "elapsed": 4,
     "status": "ok",
     "timestamp": 1661349370979,
     "user": {
      "displayName": "Syed Saad Ullah Shah",
      "userId": "07221999953290840536"
     },
     "user_tz": -300
    },
    "id": "7281d86d",
    "outputId": "7a081aca-2b9b-461b-8fd3-a501a721d69f"
   },
   "outputs": [
    {
     "data": {
      "text/plain": [
       "array([[1, 1, 1, 1, 1, 1, 1, 1, 1, 1, 1, 1, 1, 1, 1, 1, 1, 1, 1, 1],\n",
       "       [1, 1, 1, 1, 1, 1, 1, 1, 1, 1, 1, 1, 1, 1, 1, 1, 1, 1, 1, 1],\n",
       "       [1, 1, 1, 1, 1, 1, 1, 1, 1, 1, 1, 1, 1, 1, 1, 1, 1, 1, 1, 1],\n",
       "       [1, 1, 1, 1, 1, 1, 1, 1, 1, 1, 1, 1, 1, 1, 1, 1, 1, 1, 1, 1],\n",
       "       [1, 1, 1, 1, 1, 1, 1, 1, 1, 1, 1, 1, 1, 1, 1, 1, 1, 1, 1, 1]])"
      ]
     },
     "execution_count": 21,
     "metadata": {},
     "output_type": "execute_result"
    }
   ],
   "source": [
    "np.ones((5,20), 'int')"
   ]
  },
  {
   "cell_type": "markdown",
   "id": "4e17375f",
   "metadata": {
    "id": "4e17375f"
   },
   "source": [
    "**np.zeros((row, column), dtype)**\n",
    "\n",
    "Working: Create array with elements 0 and given shape"
   ]
  },
  {
   "cell_type": "code",
   "execution_count": 22,
   "id": "3414c809",
   "metadata": {
    "colab": {
     "base_uri": "https://localhost:8080/"
    },
    "executionInfo": {
     "elapsed": 12,
     "status": "ok",
     "timestamp": 1661349373354,
     "user": {
      "displayName": "Syed Saad Ullah Shah",
      "userId": "07221999953290840536"
     },
     "user_tz": -300
    },
    "id": "3414c809",
    "outputId": "1661e8b4-53ed-40d2-b3a9-182452adb8d6"
   },
   "outputs": [
    {
     "data": {
      "text/plain": [
       "array([[0, 0, 0, 0, 0, 0, 0, 0, 0, 0, 0, 0, 0, 0, 0, 0, 0, 0, 0, 0],\n",
       "       [0, 0, 0, 0, 0, 0, 0, 0, 0, 0, 0, 0, 0, 0, 0, 0, 0, 0, 0, 0],\n",
       "       [0, 0, 0, 0, 0, 0, 0, 0, 0, 0, 0, 0, 0, 0, 0, 0, 0, 0, 0, 0],\n",
       "       [0, 0, 0, 0, 0, 0, 0, 0, 0, 0, 0, 0, 0, 0, 0, 0, 0, 0, 0, 0],\n",
       "       [0, 0, 0, 0, 0, 0, 0, 0, 0, 0, 0, 0, 0, 0, 0, 0, 0, 0, 0, 0]])"
      ]
     },
     "execution_count": 22,
     "metadata": {},
     "output_type": "execute_result"
    }
   ],
   "source": [
    "np.zeros((5, 20), 'int')"
   ]
  },
  {
   "cell_type": "markdown",
   "id": "20cd7e9e",
   "metadata": {
    "id": "20cd7e9e"
   },
   "source": [
    "**np.arange(start, stop, step)**\n",
    "\n",
    "Default: start=0 step=1 stop is not inclusive\n",
    "\n",
    "Working: Create array with elements from start to stop with given steps"
   ]
  },
  {
   "cell_type": "code",
   "execution_count": 23,
   "id": "1dff79f1",
   "metadata": {
    "colab": {
     "base_uri": "https://localhost:8080/"
    },
    "executionInfo": {
     "elapsed": 520,
     "status": "ok",
     "timestamp": 1661349376390,
     "user": {
      "displayName": "Syed Saad Ullah Shah",
      "userId": "07221999953290840536"
     },
     "user_tz": -300
    },
    "id": "1dff79f1",
    "outputId": "1094dc83-0c7e-48eb-ae14-0ce2bb50087e"
   },
   "outputs": [
    {
     "data": {
      "text/plain": [
       "array([0, 1, 2, 3, 4, 5, 6, 7, 8, 9])"
      ]
     },
     "execution_count": 23,
     "metadata": {},
     "output_type": "execute_result"
    }
   ],
   "source": [
    "np.arange(10)"
   ]
  },
  {
   "cell_type": "code",
   "execution_count": 24,
   "id": "b2368b3d",
   "metadata": {
    "colab": {
     "base_uri": "https://localhost:8080/"
    },
    "executionInfo": {
     "elapsed": 2,
     "status": "ok",
     "timestamp": 1661349376814,
     "user": {
      "displayName": "Syed Saad Ullah Shah",
      "userId": "07221999953290840536"
     },
     "user_tz": -300
    },
    "id": "b2368b3d",
    "outputId": "913a6d6e-c897-4692-a4c5-41a38bb5f81e"
   },
   "outputs": [
    {
     "data": {
      "text/plain": [
       "array([[0, 1],\n",
       "       [2, 3],\n",
       "       [4, 5],\n",
       "       [6, 7],\n",
       "       [8, 9]])"
      ]
     },
     "execution_count": 24,
     "metadata": {},
     "output_type": "execute_result"
    }
   ],
   "source": [
    "np.arange(10).reshape(5, 2)"
   ]
  },
  {
   "cell_type": "code",
   "execution_count": 25,
   "id": "c9bdc9c2",
   "metadata": {
    "colab": {
     "base_uri": "https://localhost:8080/"
    },
    "executionInfo": {
     "elapsed": 8,
     "status": "ok",
     "timestamp": 1661349379190,
     "user": {
      "displayName": "Syed Saad Ullah Shah",
      "userId": "07221999953290840536"
     },
     "user_tz": -300
    },
    "id": "c9bdc9c2",
    "outputId": "54c4dc98-010b-4908-a11b-241a3ee00c3c"
   },
   "outputs": [
    {
     "data": {
      "text/plain": [
       "array([5, 6, 7, 8, 9])"
      ]
     },
     "execution_count": 25,
     "metadata": {},
     "output_type": "execute_result"
    }
   ],
   "source": [
    "np.arange(5, 10)"
   ]
  },
  {
   "cell_type": "code",
   "execution_count": 26,
   "id": "da057eb3",
   "metadata": {
    "colab": {
     "base_uri": "https://localhost:8080/"
    },
    "executionInfo": {
     "elapsed": 4,
     "status": "ok",
     "timestamp": 1661349379644,
     "user": {
      "displayName": "Syed Saad Ullah Shah",
      "userId": "07221999953290840536"
     },
     "user_tz": -300
    },
    "id": "da057eb3",
    "outputId": "ea8a46d5-4b1d-4a07-fcd3-b763ea1d7ded"
   },
   "outputs": [
    {
     "data": {
      "text/plain": [
       "array([5, 7, 9])"
      ]
     },
     "execution_count": 26,
     "metadata": {},
     "output_type": "execute_result"
    }
   ],
   "source": [
    "np.arange(5, 10, 2)"
   ]
  },
  {
   "cell_type": "markdown",
   "id": "c0aac7f8",
   "metadata": {
    "id": "c0aac7f8"
   },
   "source": [
    "**np.linspace(start, stop, n)**\n",
    "\n",
    "Default: start=0 step=1 stop is inclusive\n",
    "\n",
    "Working: Create array with n equally spaced elements from start to stop "
   ]
  },
  {
   "cell_type": "code",
   "execution_count": 27,
   "id": "c6da98e9",
   "metadata": {
    "colab": {
     "base_uri": "https://localhost:8080/"
    },
    "executionInfo": {
     "elapsed": 11,
     "status": "ok",
     "timestamp": 1661349383366,
     "user": {
      "displayName": "Syed Saad Ullah Shah",
      "userId": "07221999953290840536"
     },
     "user_tz": -300
    },
    "id": "c6da98e9",
    "outputId": "be5245a4-4594-42b4-da9d-d91bd276384a"
   },
   "outputs": [
    {
     "data": {
      "text/plain": [
       "array([  0.        ,  11.11111111,  22.22222222,  33.33333333,\n",
       "        44.44444444,  55.55555556,  66.66666667,  77.77777778,\n",
       "        88.88888889, 100.        ])"
      ]
     },
     "execution_count": 27,
     "metadata": {},
     "output_type": "execute_result"
    }
   ],
   "source": [
    "np.linspace(0, 100, 10)"
   ]
  },
  {
   "cell_type": "code",
   "execution_count": 28,
   "id": "bbb80979",
   "metadata": {
    "colab": {
     "base_uri": "https://localhost:8080/"
    },
    "executionInfo": {
     "elapsed": 10,
     "status": "ok",
     "timestamp": 1661349383367,
     "user": {
      "displayName": "Syed Saad Ullah Shah",
      "userId": "07221999953290840536"
     },
     "user_tz": -300
    },
    "id": "bbb80979",
    "outputId": "28c7e4f0-ff8b-43b4-ceea-61c00cbc4a9a"
   },
   "outputs": [
    {
     "data": {
      "text/plain": [
       "array([  0.,  10.,  20.,  30.,  40.,  50.,  60.,  70.,  80.,  90., 100.])"
      ]
     },
     "execution_count": 28,
     "metadata": {},
     "output_type": "execute_result"
    }
   ],
   "source": [
    "np.linspace(0, 100, 11)\n",
    "#because we are including 0 we need to get 11 elements to get multiples of 10 from 0 to 100"
   ]
  },
  {
   "cell_type": "code",
   "execution_count": 29,
   "id": "7b7ef0e6",
   "metadata": {
    "colab": {
     "base_uri": "https://localhost:8080/"
    },
    "executionInfo": {
     "elapsed": 7,
     "status": "ok",
     "timestamp": 1661349383751,
     "user": {
      "displayName": "Syed Saad Ullah Shah",
      "userId": "07221999953290840536"
     },
     "user_tz": -300
    },
    "id": "7b7ef0e6",
    "outputId": "c4d22be7-b24f-4991-8c59-acfe8d425376"
   },
   "outputs": [
    {
     "data": {
      "text/plain": [
       "array([ 8., 16., 24., 32., 40., 48., 56., 64.])"
      ]
     },
     "execution_count": 29,
     "metadata": {},
     "output_type": "execute_result"
    }
   ],
   "source": [
    "np.linspace(8, 64, 8)"
   ]
  },
  {
   "cell_type": "markdown",
   "id": "6c6d56b2",
   "metadata": {
    "id": "6c6d56b2"
   },
   "source": [
    "**np.array.reshape(rows, columns)**\n",
    "\n",
    "Working: Reshape given array with the given shape"
   ]
  },
  {
   "cell_type": "code",
   "execution_count": 30,
   "id": "0afbd3bb",
   "metadata": {
    "colab": {
     "base_uri": "https://localhost:8080/"
    },
    "executionInfo": {
     "elapsed": 414,
     "status": "ok",
     "timestamp": 1661349386395,
     "user": {
      "displayName": "Syed Saad Ullah Shah",
      "userId": "07221999953290840536"
     },
     "user_tz": -300
    },
    "id": "0afbd3bb",
    "outputId": "5bd7bbdf-074f-4b7e-c55c-48ce03dd17dc"
   },
   "outputs": [
    {
     "data": {
      "text/plain": [
       "array([[0, 1],\n",
       "       [2, 3],\n",
       "       [4, 5],\n",
       "       [6, 7],\n",
       "       [8, 9]])"
      ]
     },
     "execution_count": 30,
     "metadata": {},
     "output_type": "execute_result"
    }
   ],
   "source": [
    "np.arange(10).reshape(5, 2)"
   ]
  },
  {
   "cell_type": "markdown",
   "id": "81d90831",
   "metadata": {
    "id": "81d90831"
   },
   "source": [
    "**np.identity(n, dtype)**\n",
    "\n",
    "Working: Creates identity matrix with n rows and n columns"
   ]
  },
  {
   "cell_type": "code",
   "execution_count": 31,
   "id": "e961382d",
   "metadata": {
    "colab": {
     "base_uri": "https://localhost:8080/"
    },
    "executionInfo": {
     "elapsed": 7,
     "status": "ok",
     "timestamp": 1661349387213,
     "user": {
      "displayName": "Syed Saad Ullah Shah",
      "userId": "07221999953290840536"
     },
     "user_tz": -300
    },
    "id": "e961382d",
    "outputId": "e3ea0735-97b7-42c8-9c22-b0cca348ed92"
   },
   "outputs": [
    {
     "data": {
      "text/plain": [
       "array([[1., 0., 0., 0., 0., 0., 0., 0., 0., 0.],\n",
       "       [0., 1., 0., 0., 0., 0., 0., 0., 0., 0.],\n",
       "       [0., 0., 1., 0., 0., 0., 0., 0., 0., 0.],\n",
       "       [0., 0., 0., 1., 0., 0., 0., 0., 0., 0.],\n",
       "       [0., 0., 0., 0., 1., 0., 0., 0., 0., 0.],\n",
       "       [0., 0., 0., 0., 0., 1., 0., 0., 0., 0.],\n",
       "       [0., 0., 0., 0., 0., 0., 1., 0., 0., 0.],\n",
       "       [0., 0., 0., 0., 0., 0., 0., 1., 0., 0.],\n",
       "       [0., 0., 0., 0., 0., 0., 0., 0., 1., 0.],\n",
       "       [0., 0., 0., 0., 0., 0., 0., 0., 0., 1.]])"
      ]
     },
     "execution_count": 31,
     "metadata": {},
     "output_type": "execute_result"
    }
   ],
   "source": [
    "np.identity(10)"
   ]
  },
  {
   "cell_type": "code",
   "execution_count": 32,
   "id": "fbab8e1f",
   "metadata": {
    "colab": {
     "base_uri": "https://localhost:8080/"
    },
    "executionInfo": {
     "elapsed": 11,
     "status": "ok",
     "timestamp": 1661349389895,
     "user": {
      "displayName": "Syed Saad Ullah Shah",
      "userId": "07221999953290840536"
     },
     "user_tz": -300
    },
    "id": "fbab8e1f",
    "outputId": "e73aa1b2-6940-4575-ff9c-6fb26153c56d"
   },
   "outputs": [
    {
     "data": {
      "text/plain": [
       "array([[1, 0, 0, 0, 0, 0, 0, 0, 0, 0, 0, 1, 0, 0, 0, 0, 0, 0, 0, 0],\n",
       "       [0, 0, 1, 0, 0, 0, 0, 0, 0, 0, 0, 0, 0, 1, 0, 0, 0, 0, 0, 0],\n",
       "       [0, 0, 0, 0, 1, 0, 0, 0, 0, 0, 0, 0, 0, 0, 0, 1, 0, 0, 0, 0],\n",
       "       [0, 0, 0, 0, 0, 0, 1, 0, 0, 0, 0, 0, 0, 0, 0, 0, 0, 1, 0, 0],\n",
       "       [0, 0, 0, 0, 0, 0, 0, 0, 1, 0, 0, 0, 0, 0, 0, 0, 0, 0, 0, 1]])"
      ]
     },
     "execution_count": 32,
     "metadata": {},
     "output_type": "execute_result"
    }
   ],
   "source": [
    "np.identity(10, 'int').reshape(5,20)"
   ]
  },
  {
   "cell_type": "markdown",
   "id": "42918a15",
   "metadata": {
    "id": "5f4c5f32"
   },
   "source": [
    "**np.default_rng(seed)**\n",
    "\n",
    "Working: Creates a ranndom number genenrator (the seed is for reproducibility)\n",
    "\n",
    "Note: \n",
    "- rng is the standard variable name for the default_rng number generator\n",
    "- we will get same random number if we use similar seed"
   ]
  },
  {
   "cell_type": "code",
   "execution_count": 33,
   "id": "62d75672",
   "metadata": {},
   "outputs": [],
   "source": [
    "from numpy.random import default_rng"
   ]
  },
  {
   "cell_type": "code",
   "execution_count": 34,
   "id": "47c14efc",
   "metadata": {},
   "outputs": [],
   "source": [
    "rng = default_rng(12345)\n",
    "# here we used a seed value 12345\n",
    "\n",
    "# OR\n",
    "\n",
    "# rng = np.random.default_rng(12345)"
   ]
  },
  {
   "cell_type": "markdown",
   "id": "8a83917b",
   "metadata": {},
   "source": [
    "**rng.random(n)**\n",
    "\n",
    "Working: returns n random numbers from a uniform distribution between 0 and 1"
   ]
  },
  {
   "cell_type": "code",
   "execution_count": 41,
   "id": "4e67ab6b",
   "metadata": {},
   "outputs": [],
   "source": [
    "random_array = rng.random(10)\n",
    "# generates 10 random numbers between 0 and 1 according to given seed\n",
    "\n",
    "# syntax to get a specific shaped matrix\n",
    "# random_array = rng.random((3,3))"
   ]
  },
  {
   "cell_type": "code",
   "execution_count": 36,
   "id": "df7676f3",
   "metadata": {},
   "outputs": [
    {
     "data": {
      "text/plain": [
       "array([0.22733602, 0.31675834, 0.79736546, 0.67625467, 0.39110955,\n",
       "       0.33281393, 0.59830875, 0.18673419, 0.67275604, 0.94180287])"
      ]
     },
     "execution_count": 36,
     "metadata": {},
     "output_type": "execute_result"
    }
   ],
   "source": [
    "random_array"
   ]
  },
  {
   "cell_type": "markdown",
   "id": "eb31fe18",
   "metadata": {},
   "source": [
    "**rng.normal(mean, stdev, n)**\n",
    "\n",
    "Working: returns n random numbers from a normal distribution with a given mean and standard deviation "
   ]
  },
  {
   "cell_type": "code",
   "execution_count": 37,
   "id": "6346e08d",
   "metadata": {},
   "outputs": [],
   "source": [
    "mean, stddev = 5, 1"
   ]
  },
  {
   "cell_type": "code",
   "execution_count": 38,
   "id": "25156d81",
   "metadata": {},
   "outputs": [],
   "source": [
    "random_normal = rng.normal(mean, stddev, size=10)"
   ]
  },
  {
   "cell_type": "code",
   "execution_count": 39,
   "id": "4f7745ea",
   "metadata": {},
   "outputs": [
    {
     "data": {
      "text/plain": [
       "array([7.34740965, 5.96849691, 4.24061282, 5.90219827, 4.53304683,\n",
       "       4.93931048, 5.78884434, 3.74333187, 5.57585751, 6.39897899])"
      ]
     },
     "execution_count": 39,
     "metadata": {},
     "output_type": "execute_result"
    }
   ],
   "source": [
    "random_normal"
   ]
  },
  {
   "cell_type": "markdown",
   "id": "1e1824bf",
   "metadata": {},
   "source": [
    "**rng.integers(start, end, n)**\n",
    "\n",
    "Working: We will get an array with n random integers betweenn range start and end"
   ]
  },
  {
   "cell_type": "code",
   "execution_count": 40,
   "id": "fc70416d",
   "metadata": {},
   "outputs": [
    {
     "data": {
      "text/plain": [
       "array([7, 0, 3, 1, 7, 3, 4, 4, 4, 2, 5, 8, 4, 1, 0, 1, 0, 0, 1, 5, 8, 8,\n",
       "       6, 6, 3, 9, 6, 7, 7, 8, 7, 9, 5, 5, 2, 9, 5, 4, 3, 2, 6, 4, 5, 6,\n",
       "       8, 3, 6, 9, 4, 2, 2, 3, 6, 2, 8, 3, 0, 0, 0, 6, 3, 2, 6, 0, 5, 6,\n",
       "       0, 1, 3, 3, 9, 4, 6, 1, 8, 2, 7, 4, 4, 4, 5, 2, 1, 2, 9, 2, 6, 2,\n",
       "       8, 4, 5, 2, 6, 4, 7, 2, 6, 8, 4, 1])"
      ]
     },
     "execution_count": 40,
     "metadata": {},
     "output_type": "execute_result"
    }
   ],
   "source": [
    "rng.integers(0, 10, 100)"
   ]
  },
  {
   "cell_type": "markdown",
   "id": "918496c0",
   "metadata": {},
   "source": [
    "## Indexing and Slicing Arrays "
   ]
  },
  {
   "cell_type": "markdown",
   "id": "10a4f77d",
   "metadata": {},
   "source": [
    "Indexing and slicing in a 1 dimensional array is same as in base python"
   ]
  },
  {
   "cell_type": "markdown",
   "id": "fc37e733",
   "metadata": {},
   "source": [
    "**array[index]**\n",
    "\n",
    "Working: Indexing to access a single element (0 indexed)"
   ]
  },
  {
   "cell_type": "code",
   "execution_count": null,
   "id": "8187e62e",
   "metadata": {},
   "outputs": [],
   "source": []
  },
  {
   "cell_type": "markdown",
   "id": "737584a2",
   "metadata": {},
   "source": [
    "**array[start,stop,step size]**\n",
    "\n",
    "Working: Slicing to access a series of elements (stop is not inclusive)"
   ]
  },
  {
   "cell_type": "code",
   "execution_count": null,
   "id": "419c0d95",
   "metadata": {},
   "outputs": [],
   "source": []
  }
 ],
 "metadata": {
  "colab": {
   "name": "numpy_basics.ipynb",
   "provenance": []
  },
  "kernelspec": {
   "display_name": "Python 3 (ipykernel)",
   "language": "python",
   "name": "python3"
  },
  "language_info": {
   "codemirror_mode": {
    "name": "ipython",
    "version": 3
   },
   "file_extension": ".py",
   "mimetype": "text/x-python",
   "name": "python",
   "nbconvert_exporter": "python",
   "pygments_lexer": "ipython3",
   "version": "3.9.12"
  }
 },
 "nbformat": 4,
 "nbformat_minor": 5
}
