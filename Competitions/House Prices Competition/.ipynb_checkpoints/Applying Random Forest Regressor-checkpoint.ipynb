{
 "cells": [
  {
   "cell_type": "markdown",
   "id": "ebf426b0",
   "metadata": {},
   "source": [
    "# RANDOM FOREST REGRESSOR"
   ]
  },
  {
   "cell_type": "code",
   "execution_count": 6,
   "id": "39552229",
   "metadata": {},
   "outputs": [
    {
     "name": "stdout",
     "output_type": "stream",
     "text": [
      "   MSSubClass  LotArea  OverallQual  OverallCond  YearBuilt  YearRemodAdd  \\\n",
      "0          60     8450            7            5       2003          2003   \n",
      "1          20     9600            6            8       1976          1976   \n",
      "2          60    11250            7            5       2001          2002   \n",
      "3          70     9550            7            5       1915          1970   \n",
      "4          60    14260            8            5       2000          2000   \n",
      "\n",
      "   1stFlrSF  2ndFlrSF  LowQualFinSF  GrLivArea  ...  Fireplaces  WoodDeckSF  \\\n",
      "0       856       854             0       1710  ...           0           0   \n",
      "1      1262         0             0       1262  ...           1         298   \n",
      "2       920       866             0       1786  ...           1           0   \n",
      "3       961       756             0       1717  ...           1           0   \n",
      "4      1145      1053             0       2198  ...           1         192   \n",
      "\n",
      "   OpenPorchSF  EnclosedPorch  3SsnPorch  ScreenPorch  PoolArea  MiscVal  \\\n",
      "0           61              0          0            0         0        0   \n",
      "1            0              0          0            0         0        0   \n",
      "2           42              0          0            0         0        0   \n",
      "3           35            272          0            0         0        0   \n",
      "4           84              0          0            0         0        0   \n",
      "\n",
      "   MoSold  YrSold  \n",
      "0       2    2008  \n",
      "1       5    2007  \n",
      "2       9    2008  \n",
      "3       2    2006  \n",
      "4      12    2008  \n",
      "\n",
      "[5 rows x 25 columns]\n",
      "Validation MAE for Random Forest Model: 17,906\n"
     ]
    }
   ],
   "source": [
    "# Import helpful libraries\n",
    "import pandas as pd\n",
    "from sklearn.ensemble import RandomForestRegressor\n",
    "from sklearn.metrics import mean_absolute_error\n",
    "from sklearn.model_selection import train_test_split\n",
    "\n",
    "# Load the data, and separate the target\n",
    "iowa_file_path = './data/train.csv'\n",
    "home_data = pd.read_csv(iowa_file_path)\n",
    "y = home_data.SalePrice\n",
    "\n",
    "# Create X (After completing the exercise, you can return to modify this line!)\n",
    "# features = ['LotArea', 'YearBuilt', '1stFlrSF', '2ndFlrSF', 'FullBath', 'BedroomAbvGr', 'TotRmsAbvGrd']\n",
    "features = ['MSSubClass', 'LotArea','OverallQual' ,'OverallCond','YearBuilt','YearRemodAdd','1stFlrSF','2ndFlrSF' ,'LowQualFinSF' \n",
    ",'GrLivArea', 'FullBath', 'HalfBath', 'BedroomAbvGr' , 'KitchenAbvGr' , 'TotRmsAbvGrd' , 'Fireplaces' , 'WoodDeckSF' \n",
    ", 'OpenPorchSF', 'EnclosedPorch' , '3SsnPorch' , 'ScreenPorch' , 'PoolArea' , 'MiscVal' , 'MoSold' , 'YrSold']\n",
    "\n",
    "# Select columns corresponding to features, and preview the data\n",
    "X = home_data[features]\n",
    "\n",
    "# Split into validation and training data\n",
    "train_X, val_X, train_y, val_y = train_test_split(X, y, random_state=1)\n",
    "\n"
   ]
  },
  {
   "cell_type": "markdown",
   "id": "393feb60",
   "metadata": {},
   "source": [
    "# Creating Random Forest Model based on selected features"
   ]
  },
  {
   "cell_type": "code",
   "execution_count": null,
   "id": "93e1a488",
   "metadata": {},
   "outputs": [],
   "source": [
    "# Define a random forest model\n",
    "rf_model = RandomForestRegressor(random_state=1)\n",
    "rf_model.fit(train_X, train_y)\n",
    "rf_val_predictions = rf_model.predict(val_X)\n",
    "rf_val_mae = mean_absolute_error(rf_val_predictions, val_y)\n",
    "\n",
    "print(\"Validation MAE for Random Forest Model: {:,.0f}\".format(rf_val_mae))"
   ]
  },
  {
   "cell_type": "code",
   "execution_count": 7,
   "id": "603cef6c",
   "metadata": {},
   "outputs": [
    {
     "name": "stdout",
     "output_type": "stream",
     "text": [
      "[122213.5  153752.5  171902.07 ... 151836.37 139381.1  231791.69]\n"
     ]
    }
   ],
   "source": [
    "# path to file you will use for predictions\n",
    "test_data_path = './data/test.csv'\n",
    "\n",
    "# read test data file using pandas\n",
    "test_data = pd.read_csv(test_data_path)\n",
    "\n",
    "# create test_X which comes from test_data but includes only the columns you used for prediction.\n",
    "# The list of columns is stored in a variable called features\n",
    "test_X = test_data[features]\n",
    "\n",
    "# make predictions which we will submit. \n",
    "test_preds = rf_model.predict(test_X)\n",
    "print(test_preds)\n",
    "\n",
    "# We get score 18463.75690 on kaggle"
   ]
  },
  {
   "cell_type": "markdown",
   "id": "b4fcb668",
   "metadata": {},
   "source": [
    "# Creating Random Forest Model on all Training data"
   ]
  },
  {
   "cell_type": "code",
   "execution_count": 2,
   "id": "346f66c4",
   "metadata": {},
   "outputs": [
    {
     "data": {
      "text/plain": [
       "RandomForestRegressor(random_state=1)"
      ]
     },
     "execution_count": 2,
     "metadata": {},
     "output_type": "execute_result"
    }
   ],
   "source": [
    "# To improve accuracy, create a new Random Forest model which you will train on all training data\n",
    "rf_model_on_full_data = RandomForestRegressor(random_state=1)\n",
    "rf_model_on_full_data.fit(X, y)\n",
    "\n",
    "# fit rf_model_on_full_data on all data from the training data\n"
   ]
  },
  {
   "cell_type": "code",
   "execution_count": 3,
   "id": "1a76102f",
   "metadata": {},
   "outputs": [
    {
     "name": "stdout",
     "output_type": "stream",
     "text": [
      "[127456.16 156361.   172348.25 ... 155347.   130054.1  229014.75]\n"
     ]
    }
   ],
   "source": [
    "# path to file you will use for predictions\n",
    "test_data_path = './data/test.csv'\n",
    "\n",
    "# read test data file using pandas\n",
    "test_data = pd.read_csv(test_data_path)\n",
    "\n",
    "# create test_X which comes from test_data but includes only the columns you used for prediction.\n",
    "# The list of columns is stored in a variable called features\n",
    "test_X = test_data[features]\n",
    "\n",
    "# make predictions which we will submit. \n",
    "test_preds = rf_model_on_full_data.predict(test_X)\n",
    "print(test_preds)\n",
    "\n",
    "# We get score 17860.00818 on kaggle"
   ]
  },
  {
   "cell_type": "markdown",
   "id": "577631db",
   "metadata": {},
   "source": [
    "# Generate Submission.csv file"
   ]
  },
  {
   "cell_type": "code",
   "execution_count": 8,
   "id": "9fa60562",
   "metadata": {},
   "outputs": [],
   "source": [
    "# Run the code to save predictions in the format used for competition scoring\n",
    "\n",
    "output = pd.DataFrame({'Id': test_data.Id,\n",
    "                       'SalePrice': test_preds})\n",
    "output.to_csv('submission.csv', index=False)"
   ]
  },
  {
   "cell_type": "code",
   "execution_count": null,
   "id": "6a39feac",
   "metadata": {},
   "outputs": [],
   "source": []
  }
 ],
 "metadata": {
  "kernelspec": {
   "display_name": "Python 3 (ipykernel)",
   "language": "python",
   "name": "python3"
  },
  "language_info": {
   "codemirror_mode": {
    "name": "ipython",
    "version": 3
   },
   "file_extension": ".py",
   "mimetype": "text/x-python",
   "name": "python",
   "nbconvert_exporter": "python",
   "pygments_lexer": "ipython3",
   "version": "3.9.12"
  }
 },
 "nbformat": 4,
 "nbformat_minor": 5
}
